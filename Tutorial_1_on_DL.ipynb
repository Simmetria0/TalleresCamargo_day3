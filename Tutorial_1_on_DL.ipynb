{
  "nbformat": 4,
  "nbformat_minor": 0,
  "metadata": {
    "colab": {
      "name": "Tutorial 1 on DL.ipynb",
      "version": "0.3.2",
      "provenance": []
    },
    "language_info": {
      "codemirror_mode": {
        "name": "ipython",
        "version": 3
      },
      "file_extension": ".py",
      "mimetype": "text/x-python",
      "name": "python",
      "nbconvert_exporter": "python",
      "pygments_lexer": "ipython3",
      "version": "3.7.2"
    },
    "kernelspec": {
      "display_name": "Python 3",
      "language": "python",
      "name": "python3"
    }
  },
  "cells": [
    {
      "cell_type": "markdown",
      "metadata": {
        "id": "gNBRIfi9Bm1g",
        "colab_type": "text"
      },
      "source": [
        "# Tutorial 1 on Machine learning \n",
        "### Diego Tuccillo\n",
        "\n",
        "\n",
        "## 1) Define the problem\n",
        "\n",
        "\n",
        "In this \"hello world\" of deep learning we are goung to solve the problem of classify grayscale images of handwritten digits (28 pixels by 28 pixels), into their 10 categories (0 to 9). The dataset we will use is the MNIST dataset, a classic dataset in the machine learning community, which has been around for almost as long as the field itself and has been very intensively studied. It's a set of 60,000 training images, plus 10,000 test images, assembled by the National Institute of Standards and Technology (the NIST in MNIST) in the 1980s. \n",
        "\n",
        "You can think of \"solving\" MNIST as the \"Hello World\" of deep learning.\n",
        "\n",
        "\n",
        "![alternate text](http://simmetria0.altervista.org/Tutorial_1_DL/mnist_example.png)\n",
        "\n",
        "\n",
        "\n",
        "\n",
        "\n",
        "We are going to solve this problem using a Neural Network (not deep) using Keras.\n",
        "\n",
        "\n",
        "\n"
      ]
    },
    {
      "cell_type": "code",
      "metadata": {
        "id": "2NfLSLzwBm1i",
        "colab_type": "code",
        "outputId": "ce1a3d3a-12b5-4449-9bda-957954a94d14",
        "colab": {
          "base_uri": "https://localhost:8080/",
          "height": 68
        }
      },
      "source": [
        "# The MNIST dataset comes pre-loaded in Keras, in the form of a set of four Numpy arrays:\n",
        "\n",
        "from keras.datasets import mnist\n",
        "\n",
        "(train_images, train_labels), (test_images, test_labels) = mnist.load_data()"
      ],
      "execution_count": 0,
      "outputs": [
        {
          "output_type": "stream",
          "text": [
            "Using TensorFlow backend.\n"
          ],
          "name": "stderr"
        },
        {
          "output_type": "stream",
          "text": [
            "Downloading data from https://s3.amazonaws.com/img-datasets/mnist.npz\n",
            "11493376/11490434 [==============================] - 0s 0us/step\n"
          ],
          "name": "stdout"
        }
      ]
    },
    {
      "cell_type": "code",
      "metadata": {
        "id": "dzSw7toGCP6j",
        "colab_type": "code",
        "outputId": "a4838371-4d23-448b-8678-cedcb58b69fc",
        "colab": {
          "base_uri": "https://localhost:8080/",
          "height": 303
        }
      },
      "source": [
        "# let's have a look at the data sample\n",
        "\n",
        "print (train_images.shape)\n",
        "\n",
        "import matplotlib.pyplot as plt\n",
        "plt.imshow(train_images[300,:,:])\n",
        "\n",
        "\n",
        "\n"
      ],
      "execution_count": 0,
      "outputs": [
        {
          "output_type": "stream",
          "text": [
            "(60000, 28, 28)\n"
          ],
          "name": "stdout"
        },
        {
          "output_type": "execute_result",
          "data": {
            "text/plain": [
              "<matplotlib.image.AxesImage at 0x7f044c2c4358>"
            ]
          },
          "metadata": {
            "tags": []
          },
          "execution_count": 4
        },
        {
          "output_type": "display_data",
          "data": {
            "image/png": "[encoded data removed]",
            "text/plain": [
              "<Figure size 432x288 with 1 Axes>"
            ]
          },
          "metadata": {
            "tags": []
          }
        }
      ]
    },
    {
      "cell_type": "code",
      "metadata": {
        "id": "CRmgQP3thNg5",
        "colab_type": "code",
        "outputId": "50db935a-1817-40f1-db96-0c21ba65c9cd",
        "colab": {
          "base_uri": "https://localhost:8080/",
          "height": 51
        }
      },
      "source": [
        "# and the train_labels set\n",
        "print(train_labels.shape)\n",
        "train_labels[300]\n"
      ],
      "execution_count": 0,
      "outputs": [
        {
          "output_type": "stream",
          "text": [
            "(60000,)\n"
          ],
          "name": "stdout"
        },
        {
          "output_type": "execute_result",
          "data": {
            "text/plain": [
              "8"
            ]
          },
          "metadata": {
            "tags": []
          },
          "execution_count": 6
        }
      ]
    },
    {
      "cell_type": "markdown",
      "metadata": {
        "id": "GlXNIjiohlTr",
        "colab_type": "text"
      },
      "source": [
        "***\n",
        "\n",
        "## Note that you had:\n",
        "\n",
        "**(train_images, train_labels), \n",
        "(test_images, test_labels) **\n",
        "\n",
        "Why?\n",
        "\n",
        "***\n"
      ]
    },
    {
      "cell_type": "code",
      "metadata": {
        "id": "mHIw4UtnhjMp",
        "colab_type": "code",
        "outputId": "2fc882de-3752-47f4-d1d3-2481c3d28cd2",
        "colab": {
          "base_uri": "https://localhost:8080/",
          "height": 108
        }
      },
      "source": [
        "#let's built the model\n",
        "\n",
        "from keras import models\n",
        "from keras import layers\n",
        "\n",
        "network = models.Sequential()\n",
        "network.add(layers.Dense(512, activation='relu', input_shape=(28 * 28,)))\n",
        "network.add(layers.Dense(10, activation='softmax'))"
      ],
      "execution_count": 0,
      "outputs": [
        {
          "output_type": "stream",
          "text": [
            "WARNING:tensorflow:From /usr/local/lib/python3.6/dist-packages/tensorflow/python/framework/op_def_library.py:263: colocate_with (from tensorflow.python.framework.ops) is deprecated and will be removed in a future version.\n",
            "Instructions for updating:\n",
            "Colocations handled automatically by placer.\n"
          ],
          "name": "stdout"
        }
      ]
    },
    {
      "cell_type": "markdown",
      "metadata": {
        "id": "DFlAgyQBjVB4",
        "colab_type": "text"
      },
      "source": [
        "***\n",
        "\n",
        "# What are we doing?\n",
        "\n",
        "\n",
        "![alternate text](http://simmetria0.altervista.org/Tutorial_1_DL/NN.png)\n",
        "\n",
        "\n",
        "\n",
        "\n",
        "So now we have the NN STRUCTURE ready.\n",
        "\n",
        "To make it work we need a \"fitting\" method, i.e. to define HOW the NN learn.\n",
        "\n",
        "\n",
        "This is done defining:\n",
        "\n",
        "\n",
        "\n",
        "\n",
        "\n",
        "1. **A loss function**: that is is how the network will be able to MEASURE how good a job it is doing on its training data.\n",
        "\n",
        "2. **An optimizer**: this is the mechanism through which the network will update itself based on the results obtained with the loss function.\n",
        "\n",
        "3. **A metrics**: to monitor during training and testing. Here we will only care about accuracy (the fraction of the images that were correctly classified).\n",
        "\n",
        "\n",
        "\n",
        "Note that the loss function is used to optimize your model. This is the function that will get minimized by the optimizer.\n",
        "\n",
        "A metric is used to judge the performance of your model. This is only for you to look at and has nothing to do with the optimization process.\n",
        "\n",
        "\n",
        "\n",
        "\n"
      ]
    },
    {
      "cell_type": "code",
      "metadata": {
        "id": "FsKJ_54omrfI",
        "colab_type": "code",
        "colab": {}
      },
      "source": [
        "#we do this using this simple command:\n",
        "\n",
        "network.compile(optimizer='SGD', loss='categorical_crossentropy', metrics=['accuracy'])\n",
        "#network.compile(optimizer='rmsprop', loss='categorical_crossentropy', metrics=['accuracy'])"
      ],
      "execution_count": 0,
      "outputs": []
    },
    {
      "cell_type": "code",
      "metadata": {
        "id": "UnzwQdefm8zk",
        "colab_type": "code",
        "colab": {}
      },
      "source": [
        "# Now we are ready!\n",
        "# We have just to put the data in the right shape to feed the NN and we are ready:\n",
        "\n",
        "\n",
        "train_images = train_images.reshape((60000, 28 * 28))\n",
        "train_images = train_images.astype('float32') / 255\n",
        "\n",
        "test_images = test_images.reshape((10000, 28 * 28))\n",
        "test_images = test_images.astype('float32') / 255\n",
        "\n",
        "\n",
        "\n",
        "#We also need to categorically encode the labels\n",
        "\n",
        "from keras.utils import to_categorical\n",
        "\n",
        "train_labels = to_categorical(train_labels)\n",
        "test_labels = to_categorical(test_labels)\n",
        "\n",
        "\n",
        "\n",
        "\n",
        "\n",
        "\n"
      ],
      "execution_count": 0,
      "outputs": []
    },
    {
      "cell_type": "code",
      "metadata": {
        "id": "jzBZXYJBon0X",
        "colab_type": "code",
        "outputId": "90c53f40-c2cb-45e7-8f4c-857f0c9cf8e1",
        "colab": {
          "base_uri": "https://localhost:8080/",
          "height": 51
        }
      },
      "source": [
        "print (train_images.shape)\n",
        "\n",
        "#print(train_labels.shape)\n",
        "\n",
        "train_labels[0,:]\n",
        "\n"
      ],
      "execution_count": 0,
      "outputs": [
        {
          "output_type": "stream",
          "text": [
            "(60000, 784)\n"
          ],
          "name": "stdout"
        },
        {
          "output_type": "execute_result",
          "data": {
            "text/plain": [
              "array([0., 0., 0., 0., 0., 1., 0., 0., 0., 0.], dtype=float32)"
            ]
          },
          "metadata": {
            "tags": []
          },
          "execution_count": 10
        }
      ]
    },
    {
      "cell_type": "code",
      "metadata": {
        "id": "BWiqeRTHo6JF",
        "colab_type": "code",
        "outputId": "2eb60140-69be-4426-b0b2-fc25f84b943c",
        "colab": {
          "base_uri": "https://localhost:8080/",
          "height": 1020
        }
      },
      "source": [
        "#We are now ready to train our network, which in Keras is done via a call to the fit method of the network: we \"fit\" the model to its training data.\n",
        "\n",
        "network.fit(train_images, train_labels, epochs=5, batch_size=128)"
      ],
      "execution_count": 0,
      "outputs": [
        {
          "output_type": "stream",
          "text": [
            "WARNING:tensorflow:From /usr/local/lib/python3.6/dist-packages/tensorflow/python/ops/math_ops.py:3066: to_int32 (from tensorflow.python.ops.math_ops) is deprecated and will be removed in a future version.\n",
            "Instructions for updating:\n",
            "Use tf.cast instead.\n",
            "Epoch 1/5\n",
            "60000/60000 [==============================] - 5s 78us/step - loss: 1.1043 - acc: 0.7554\n",
            "Epoch 2/5\n",
            "60000/60000 [==============================] - 4s 63us/step - loss: 0.5221 - acc: 0.8735\n",
            "Epoch 3/5\n",
            "60000/60000 [==============================] - 4s 60us/step - loss: 0.4194 - acc: 0.8912\n",
            "Epoch 4/5\n",
            "60000/60000 [==============================] - 4s 63us/step - loss: 0.3730 - acc: 0.9000\n",
            "Epoch 5/5\n",
            "60000/60000 [==============================] - 4s 62us/step - loss: 0.3448 - acc: 0.9053\n"
          ],
          "name": "stdout"
        },
        {
          "output_type": "execute_result",
          "data": {
            "text/plain": [
              "<keras.callbacks.History at 0x7f0464170f98>"
            ]
          },
          "metadata": {
            "tags": []
          },
          "execution_count": 10
        }
      ]
    },
    {
      "cell_type": "markdown",
      "metadata": {
        "id": "LVAHCVEApZ37",
        "colab_type": "text"
      },
      "source": [
        "***\n",
        "\n",
        "Two quantities are being displayed during training: the \"loss\" of the network over the training data, and the accuracy of the network over the training data.\n",
        "\n",
        "Let's see now if the network can GENERILIZE what it learn\n",
        "\n",
        "***"
      ]
    },
    {
      "cell_type": "code",
      "metadata": {
        "id": "uVWWIOnMpIGq",
        "colab_type": "code",
        "outputId": "40ed2a58-74c6-4c09-e294-8ada5fc3a723",
        "colab": {
          "base_uri": "https://localhost:8080/",
          "height": 51
        }
      },
      "source": [
        "test_loss, test_acc = network.evaluate(test_images, test_labels)\n",
        "\n",
        "print('test accuracy:', test_acc)\n"
      ],
      "execution_count": 0,
      "outputs": [
        {
          "output_type": "stream",
          "text": [
            "10000/10000 [==============================] - 1s 56us/step\n",
            "test accuracy: 0.9128\n"
          ],
          "name": "stdout"
        }
      ]
    }
  ]
}