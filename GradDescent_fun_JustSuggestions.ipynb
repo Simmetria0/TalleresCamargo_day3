{
 "cells": [
  {
   "cell_type": "code",
   "execution_count": 1,
   "metadata": {},
   "outputs": [],
   "source": [
    "#Simmetria0\n",
    "#Diego Tuccillo"
   ]
  },
  {
   "cell_type": "code",
   "execution_count": 12,
   "metadata": {},
   "outputs": [],
   "source": [
    "#import libraries\n",
    "import numpy as np\n",
    "import matplotlib.pyplot as plt"
   ]
  },
  {
   "cell_type": "code",
   "execution_count": 9,
   "metadata": {},
   "outputs": [
    {
     "name": "stdout",
     "output_type": "stream",
     "text": [
      "/Users/diegotuccillo/Desktop/Jueves/Intro\r\n"
     ]
    }
   ],
   "source": [
    "!pwd"
   ]
  },
  {
   "cell_type": "code",
   "execution_count": 10,
   "metadata": {},
   "outputs": [],
   "source": [
    "# Read the dataset\n",
    "path = '/Users/diegotuccillo/Desktop/Jueves/Intro/'\n",
    "data = np.loadtxt( path+'ex1data1.txt', delimiter=',' )\n",
    "\n",
    "x = data[:, 0]\n",
    "y = data[:, 1]"
   ]
  },
  {
   "cell_type": "code",
   "execution_count": 3,
   "metadata": {},
   "outputs": [
    {
     "name": "stdout",
     "output_type": "stream",
     "text": [
      "[ 6.1101  5.5277  8.5186  7.0032  5.8598  8.3829  7.4764  8.5781  6.4862\n",
      "  5.0546  5.7107 14.164   5.734   8.4084  5.6407  5.3794  6.3654  5.1301\n",
      "  6.4296  7.0708  6.1891 20.27    5.4901  6.3261  5.5649 18.945  12.828\n",
      " 10.957  13.176  22.203   5.2524  6.5894  9.2482  5.8918  8.2111  7.9334\n",
      "  8.0959  5.6063 12.836   6.3534  5.4069  6.8825 11.708   5.7737  7.8247\n",
      "  7.0931  5.0702  5.8014 11.7     5.5416  7.5402  5.3077  7.4239  7.6031\n",
      "  6.3328  6.3589  6.2742  5.6397  9.3102  9.4536  8.8254  5.1793 21.279\n",
      " 14.908  18.959   7.2182  8.2951 10.236   5.4994 20.341  10.136   7.3345\n",
      "  6.0062  7.2259  5.0269  6.5479  7.5386  5.0365 10.274   5.1077  5.7292\n",
      "  5.1884  6.3557  9.7687  6.5159  8.5172  9.1802  6.002   5.5204  5.0594\n",
      "  5.7077  7.6366  5.8707  5.3054  8.2934 13.394   5.4369]\n"
     ]
    }
   ],
   "source": [
    "#================\n",
    "# Exercise 1\n",
    "#================\n",
    "# Visualize the dataset \n",
    "plt.figure()\n",
    "plt.xlabel( 'Poblacion de la ciudad' )\n",
    "plt.ylabel( 'Beneficios')\n",
    "\n",
    "plt.scatter() #complete\n",
    "plt.show()"
   ]
  },
  {
   "cell_type": "code",
   "execution_count": 4,
   "metadata": {},
   "outputs": [],
   "source": [
    "#Bravo! Now draw a line using theha_0 e theta_1 with values chosen by you\n",
    "theta_0 = 1.5 #put your guess here, this one is mine! ;)\n",
    "theta_1 = 1 #put your guess here\n",
    "x_1 = np.linspace(min(x), max(x), 50)\n",
    "h_0 = #complete"
   ]
  },
  {
   "cell_type": "code",
   "execution_count": 5,
   "metadata": {},
   "outputs": [
    {
     "data": {
      "image/png": "[encoded data removed]",
      "text/plain": [
       "<Figure size 432x288 with 1 Axes>"
      ]
     },
     "metadata": {},
     "output_type": "display_data"
    }
   ],
   "source": [
    "# Visualize it\n",
    "plt.figure()\n",
    "plt.xlabel( 'Poblacion de la ciudad' )\n",
    "plt.ylabel( 'Beneficios')\n",
    "plt.scatter( x, y, marker = 'o', c = 'b' )\n",
    "plt.plot() #here you draw the h0 line\n",
    "plt.show()"
   ]
  },
  {
   "cell_type": "code",
   "execution_count": 6,
   "metadata": {},
   "outputs": [],
   "source": [
    "#================\n",
    "# Exercise 2\n",
    "#================\n",
    "# Calculate how good is our initial guess\n",
    "# calcula el \"coste\" \n",
    "\n",
    "#Easier to create a theta that include the two components (matrix multiplication)\n",
    "theta = np.zeros(shape=(1, 2))\n",
    "theta[0,0]= theta_0 \n",
    "theta[0,1]= #complete  \n"
   ]
  },
  {
   "cell_type": "code",
   "execution_count": 7,
   "metadata": {},
   "outputs": [],
   "source": [
    "#Creare a module \"cost function\" for the linear regression\n",
    "def cost_funct(x, y, theta):\n",
    "    m = x.size\n",
    "    #create the design matrix X\n",
    "    i = np.ones(m)\n",
    "    X = np.column_stack((i,x))\n",
    "    X = np.transpose(X)\n",
    "\n",
    "    hypothesis = theta.dot(X)\n",
    "    sqErrors = (hypothesis - y) ** 2\n",
    "    J = # complete\n",
    "    return J\n"
   ]
  },
  {
   "cell_type": "code",
   "execution_count": 8,
   "metadata": {},
   "outputs": [
    {
     "data": {
      "text/plain": [
       "12.051852965610308"
      ]
     },
     "execution_count": 8,
     "metadata": {},
     "output_type": "execute_result"
    }
   ],
   "source": [
    "#Run the cost function module\n",
    "cost_funct(x, y, theta) "
   ]
  },
  {
   "cell_type": "code",
   "execution_count": 9,
   "metadata": {},
   "outputs": [],
   "source": [
    "#================\n",
    "# Exercise 3\n",
    "#================\n",
    "#Create a module \"Gradient descent\"\n",
    "\n",
    "#It has to be a function:\n",
    "# def gradient_descent(x, y, theta, alpha, num_iters):\n",
    "\n",
    "    \n",
    "def gradient_descent(x, y, theta, alpha, num_iters):\n",
    "    m = y.size\n",
    "    J_history = np.zeros(shape=(num_iters, 1))\n",
    "    X = np.transpose(np.column_stack((np.ones(m),x)))\n",
    "\n",
    "    for i in range():  #in range of what?\n",
    "        predictions = theta.dot(X)\n",
    "\n",
    "        errors_x1 = (predictions - y) * X[0,:]\n",
    "        errors_x2 = (predictions - y) * X[1, :]\n",
    "\n",
    "        theta[0,0] = theta[0,0] - alpha * (1.0 / m) * errors_x1.sum()\n",
    "        theta[0,1] = theta[0,1] - alpha * (1.0 / m) * errors_x2.sum()\n",
    "\n",
    "        J_history[i, 0] = #complete here with something that you already have done\n",
    "    return theta, J_history\n"
   ]
  },
  {
   "cell_type": "code",
   "execution_count": 10,
   "metadata": {},
   "outputs": [],
   "source": [
    "# Run our code\n",
    "theta = np.zeros(shape=(1, 2))\n",
    "num_iters = #choose an integer\n",
    "alpha = # choose a small number\n",
    "\n",
    "theta, J_history = #use your grad descent module\n"
   ]
  },
  {
   "cell_type": "code",
   "execution_count": 11,
   "metadata": {},
   "outputs": [],
   "source": [
    "#================\n",
    "# Exercise 4\n",
    "#================\n",
    "#Let's go see the result of the fit and compare it to our initial  quess\n",
    "\n",
    "#old guess\n",
    "theta_0 = 1.5\n",
    "theta_1 = 1\n",
    "x_1 = np.linspace(min(x), max(x), 50)\n",
    "h_0 = theta_0 + theta_1*x_1"
   ]
  },
  {
   "cell_type": "code",
   "execution_count": 12,
   "metadata": {},
   "outputs": [],
   "source": [
    "#gradient descent based fit\n",
    "h_g = theta[0,0] + theta[0,1]*x_1\n"
   ]
  },
  {
   "cell_type": "code",
   "execution_count": 13,
   "metadata": {},
   "outputs": [
    {
     "data": {
      "image/png": "[encoded data removed]",
      "text/plain": [
       "<Figure size 432x288 with 1 Axes>"
      ]
     },
     "metadata": {},
     "output_type": "display_data"
    }
   ],
   "source": [
    "#plot the two fits\n",
    "plt.figure()\n",
    "plt.scatter( x, y, marker='o', c = 'b' )\n",
    "plt.xlabel( 'Poblacion de la ciudad' )\n",
    "plt.ylabel( 'Beneficios')\n",
    "plt.plot #plot in green your guess fit (c='g', linestyle='--')\n",
    "plt.plot  #plot in red your gradient descent based fit (\n",
    "plt.show()"
   ]
  },
  {
   "cell_type": "code",
   "execution_count": 14,
   "metadata": {},
   "outputs": [
    {
     "data": {
      "text/plain": [
       "<matplotlib.collections.PathCollection at 0x10a652ba8>"
      ]
     },
     "execution_count": 14,
     "metadata": {},
     "output_type": "execute_result"
    },
    {
     "data": {
      "image/png": "[encoded data removed]",
      "text/plain": [
       "<Figure size 432x288 with 1 Axes>"
      ]
     },
     "metadata": {},
     "output_type": "display_data"
    }
   ],
   "source": [
    "#================\n",
    "# Exercise 5\n",
    "#================\n",
    "#Visualize how evolves the cost as a function of the interactions\n",
    "\n",
    "inter_v = np.arange(num_iters) \n",
    "plt.figure()\n",
    "plt.xlabel( 'ineractions' , fontsize = 15 )\n",
    "plt.ylabel( r'$J(\\theta_0, \\theta_1)$', fontsize = 15)\n",
    "plt.scatter #complete\n",
    "\n",
    "\n"
   ]
  },
  {
   "cell_type": "code",
   "execution_count": null,
   "metadata": {},
   "outputs": [],
   "source": [
    "#try how does it change by changing the learning rate."
   ]
  }
 ],
 "metadata": {
  "kernelspec": {
   "display_name": "Python 3",
   "language": "python",
   "name": "python3"
  },
  "language_info": {
   "codemirror_mode": {
    "name": "ipython",
    "version": 3
   },
   "file_extension": ".py",
   "mimetype": "text/x-python",
   "name": "python",
   "nbconvert_exporter": "python",
   "pygments_lexer": "ipython3",
   "version": "3.7.2"
  }
 },
 "nbformat": 4,
 "nbformat_minor": 2
}
